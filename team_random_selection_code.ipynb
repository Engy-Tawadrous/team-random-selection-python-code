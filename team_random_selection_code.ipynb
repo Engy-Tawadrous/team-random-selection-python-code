{
 "cells": [
  {
   "cell_type": "markdown",
   "metadata": {},
   "source": [
    "# Team Random Selection Code :)\n"
   ]
  },
  {
   "cell_type": "code",
   "execution_count": 1,
   "metadata": {},
   "outputs": [],
   "source": [
    "import random\n",
    "\n",
    "# Define the four test lists\n",
    "level1_list = [1, 2, 3, 4]\n",
    "level2_list = ['a', 'b', 'c','d']\n",
    "level3_list = [99, 88, 77,66]\n",
    "level4_list = [\"1$\",\"2&\",\"3%\",\"4©\"]"
   ]
  },
  {
   "cell_type": "markdown",
   "metadata": {},
   "source": [
    "Think about a code that help us to have random new mixed lists, each list should have one element from each level lists.\n",
    "\n",
    "Output may be like that following:\n",
    "```python\n",
    "team1 = [1, 'c', 88, '2&']\n",
    "team2 = [4, 'a', 99, '3%']\n",
    "team3 = [2, 'b', 77, '4©']\n",
    "team4 = [3, 'd', 66, '1$']\n",
    "```\n",
    "\n"
   ]
  },
  {
   "cell_type": "code",
   "execution_count": 43,
   "metadata": {},
   "outputs": [
    {
     "name": "stdout",
     "output_type": "stream",
     "text": [
      "Randomly selected unique element1: [3, 2, 4, 1]\n",
      "Randomly selected unique element2: ['a', 'd', 'c', 'b']\n",
      "Randomly selected unique element3: [88, 66, 77, 99]\n",
      "Randomly selected unique element4: ['2&', '3%', '4©', '1$']\n",
      "[3, 'a', 88, '2&']\n",
      "[2, 'd', 66, '3%']\n",
      "[4, 'c', 77, '4©']\n",
      "[1, 'b', 99, '1$']\n"
     ]
    }
   ],
   "source": [
    "unique_element1 = random.sample(level1_list, len(level1_list))\n",
    "print(\"Randomly selected unique element1:\", unique_element1)\n",
    "\n",
    "unique_element2 = random.sample(level2_list, len(level2_list))\n",
    "print(\"Randomly selected unique element2:\", unique_element2)\n",
    "\n",
    "unique_element3 = random.sample(level3_list, len(level3_list))\n",
    "print(\"Randomly selected unique element3:\", unique_element3)\n",
    "\n",
    "unique_element4 = random.sample(level4_list, len(level4_list))\n",
    "print(\"Randomly selected unique element4:\", unique_element4)\n",
    "\n",
    "for i in range(4) :\n",
    "    team=list()\n",
    "    team= [unique_element1[i],unique_element2[i],unique_element3[i],unique_element4[i]]\n",
    "    print(team)\n",
    "\n"
   ]
  },
  {
   "cell_type": "code",
   "execution_count": 7,
   "metadata": {},
   "outputs": [
    {
     "name": "stdout",
     "output_type": "stream",
     "text": [
      "[1, 4, 3, 2]\n",
      "[4, 3, 2, 1]\n",
      "[2, 4, 1, 3]\n",
      "[3, 2, 4, 1]\n"
     ]
    }
   ],
   "source": [
    "# your code here\n",
    "for element1 in level1_list:\n",
    "   random_element1 = random.sample(level1_list,len(level1_list))\n",
    "   print(random_element1)"
   ]
  }
 ],
 "metadata": {
  "kernelspec": {
   "display_name": "pubmed",
   "language": "python",
   "name": "python3"
  },
  "language_info": {
   "codemirror_mode": {
    "name": "ipython",
    "version": 3
   },
   "file_extension": ".py",
   "mimetype": "text/x-python",
   "name": "python",
   "nbconvert_exporter": "python",
   "pygments_lexer": "ipython3",
   "version": "3.11.9"
  }
 },
 "nbformat": 4,
 "nbformat_minor": 2
}
