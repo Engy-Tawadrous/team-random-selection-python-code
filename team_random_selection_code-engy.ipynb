{
  "cells": [
    {
      "cell_type": "markdown",
      "metadata": {
        "id": "NoAmOQaRgAba"
      },
      "source": [
        "# Team Random Selection Code :)\n"
      ]
    },
    {
      "cell_type": "code",
      "execution_count": 12,
      "metadata": {
        "id": "5dkr2iDlgAbc"
      },
      "outputs": [],
      "source": [
        "import random\n",
        "\n",
        "# Define the four test lists\n",
        "level1_list = [1, 2, 3, 4]\n",
        "level2_list = ['a', 'b', 'c','d']\n",
        "level3_list = [99, 88, 77,66]\n",
        "level4_list = [\"1$\",\"2&\",\"3%\",\"4©\"]"
      ]
    },
    {
      "cell_type": "markdown",
      "metadata": {
        "id": "Ey61HU5SgAbd"
      },
      "source": [
        "Think about a code that help us to have random new mixed lists, each list should have one element from each level lists.\n",
        "\n",
        "Output may be like that following:\n",
        "```python\n",
        "team1 = [1, 'c', 88, '2&']\n",
        "team2 = [4, 'a', 99, '3%']\n",
        "team3 = [2, 'b', 77, '4©']\n",
        "team4 = [3, 'd', 66, '1$']\n",
        "```\n",
        "\n"
      ]
    },
    {
      "cell_type": "code",
      "execution_count": 14,
      "metadata": {
        "colab": {
          "base_uri": "https://localhost:8080/"
        },
        "id": "JNOmIv3qgAbe",
        "outputId": "76a99fed-eafd-49eb-d6e3-261aae438602"
      },
      "outputs": [
        {
          "output_type": "stream",
          "name": "stdout",
          "text": [
            "Randomly selected unique element1: [3, 1, 4, 2]\n",
            "Randomly selected unique element2: ['a', 'c', 'd', 'b']\n",
            "Randomly selected unique element3: [88, 66, 99, 77]\n",
            "Randomly selected unique element4: ['1$', '2&', '4©', '3%']\n",
            "team1= [3, 'a', 88, '1$']\n",
            "team2= [1, 'c', 66, '2&']\n",
            "team3= [4, 'd', 99, '4©']\n",
            "team4= [2, 'b', 77, '3%']\n"
          ]
        }
      ],
      "source": [
        "unique_element1 = random.sample(level1_list, len(level1_list))\n",
        "print(\"Randomly selected unique element1:\", unique_element1)\n",
        "\n",
        "unique_element2 = random.sample(level2_list, len(level2_list))\n",
        "print(\"Randomly selected unique element2:\", unique_element2)\n",
        "\n",
        "unique_element3 = random.sample(level3_list, len(level3_list))\n",
        "print(\"Randomly selected unique element3:\", unique_element3)\n",
        "\n",
        "unique_element4 = random.sample(level4_list, len(level4_list))\n",
        "print(\"Randomly selected unique element4:\", unique_element4)\n",
        "\n",
        "for i in range(4) :\n",
        "    team=list()\n",
        "    team= [unique_element1[i],unique_element2[i],unique_element3[i],unique_element4[i]]\n",
        "    print(f'team{i+1}=',team)\n",
        "\n",
        "\n"
      ]
    },
    {
      "cell_type": "code",
      "source": [],
      "metadata": {
        "id": "KDmPz21uguVo"
      },
      "execution_count": null,
      "outputs": []
    }
  ],
  "metadata": {
    "kernelspec": {
      "display_name": "pubmed",
      "language": "python",
      "name": "python3"
    },
    "language_info": {
      "codemirror_mode": {
        "name": "ipython",
        "version": 3
      },
      "file_extension": ".py",
      "mimetype": "text/x-python",
      "name": "python",
      "nbconvert_exporter": "python",
      "pygments_lexer": "ipython3",
      "version": "3.11.9"
    },
    "colab": {
      "provenance": []
    }
  },
  "nbformat": 4,
  "nbformat_minor": 0
}